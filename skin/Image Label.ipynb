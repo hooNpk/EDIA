{
 "cells": [
  {
   "cell_type": "markdown",
   "metadata": {},
   "source": [
    "# This source code is for sorting image data\n",
    "\n",
    "- Because the pytorch library function: \"ImageFolder\" requires that structure.\n"
   ]
  },
  {
   "cell_type": "code",
   "execution_count": 1,
   "metadata": {},
   "outputs": [],
   "source": [
    "import shutil\n",
    "import pandas as pd"
   ]
  },
  {
   "cell_type": "code",
   "execution_count": 14,
   "metadata": {},
   "outputs": [],
   "source": [
    "metadata = pd.read_csv(\"data/ISIC_2020_Training_GroundTruth_v2.csv\")\n",
    "metadata[['image_name', 'benign_malignant']].head()\n",
    "metadata[metadata['benign_malignant']=='benign']['image_name'].head()\n",
    "benign = metadata[metadata['benign_malignant']=='benign']['image_name']\n",
    "malignant = metadata[metadata['benign_malignant']=='malignant']['image_name']"
   ]
  },
  {
   "cell_type": "code",
   "execution_count": 15,
   "metadata": {},
   "outputs": [],
   "source": [
    "base_dir = \"C:\\project\\EDIA\\skin\\data\\\\train\\\\\"\n",
    "benign_dir = \"C:\\project\\EDIA\\skin\\data\\\\benign\\\\\"\n",
    "malig_dir = \"C:\\project\\EDIA\\skin\\data\\\\malignant\\\\\"\n",
    "index =0\n",
    "for file in benign :\n",
    "    #print(file)\n",
    "    shutil.move(base_dir+file+'.jpg', benign_dir+file+'.jpg')\n",
    "\n",
    "for file in malignant :\n",
    "    shutil.move(base_dir+file+'.jpg', malig_dir+file+'.jpg')"
   ]
  }
 ],
 "metadata": {
  "kernelspec": {
   "display_name": "Python 3",
   "language": "python",
   "name": "python3"
  },
  "language_info": {
   "codemirror_mode": {
    "name": "ipython",
    "version": 3
   },
   "file_extension": ".py",
   "mimetype": "text/x-python",
   "name": "python",
   "nbconvert_exporter": "python",
   "pygments_lexer": "ipython3",
   "version": "3.8.5"
  }
 },
 "nbformat": 4,
 "nbformat_minor": 4
}
